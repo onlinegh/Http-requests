{
  "nbformat": 4,
  "nbformat_minor": 0,
  "metadata": {
    "colab": {
      "name": "Stateless vs Stateful Protocol",
      "provenance": [],
      "collapsed_sections": []
    },
    "kernelspec": {
      "name": "python3",
      "display_name": "Python 3"
    }
  },
  "cells": [
    {
      "cell_type": "markdown",
      "metadata": {
        "id": "ab7ZmiFASfsg",
        "colab_type": "text"
      },
      "source": [
        "# Stateless Protocol\n",
        "\n",
        "\n",
        "*   HTTP,UDP(User datagram protocol),DNS(Domain Name System)\n",
        "*   Requires less resources as On server side , you dont need to store anything(session details).\n",
        "*   Server doesn't retain the session details.\n"
      ]
    },
    {
      "cell_type": "markdown",
      "metadata": {
        "id": "tYX8I-SNSgr-",
        "colab_type": "text"
      },
      "source": [
        "#Stateful Protocol\n",
        "*   FTP,Telnet,TCP\n",
        "*   Keeps track of the connection info.\n",
        "*   Server saves the session info."
      ]
    },
    {
      "cell_type": "markdown",
      "metadata": {
        "id": "Uev0fS1VSgxk",
        "colab_type": "text"
      },
      "source": [
        ""
      ]
    }
  ]
}